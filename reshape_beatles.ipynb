{
 "cells": [
  {
   "cell_type": "code",
   "execution_count": 1,
   "id": "1f2b8476",
   "metadata": {},
   "outputs": [
    {
     "data": {
      "text/plain": [
       "'/Users/sankariraja/Desktop/Sem B/DMSN/Project'"
      ]
     },
     "execution_count": 1,
     "metadata": {},
     "output_type": "execute_result"
    }
   ],
   "source": [
    "pwd"
   ]
  },
  {
   "cell_type": "code",
   "execution_count": 4,
   "id": "8c6491f3",
   "metadata": {},
   "outputs": [
    {
     "ename": "UnicodeDecodeError",
     "evalue": "'utf-8' codec can't decode byte 0xff in position 1074: invalid start byte",
     "output_type": "error",
     "traceback": [
      "\u001b[0;31m---------------------------------------------------------------------------\u001b[0m",
      "\u001b[0;31mUnicodeDecodeError\u001b[0m                        Traceback (most recent call last)",
      "\u001b[0;32m/var/folders/bc/dgs9l44s6s5fbxcy9_55vr7w0000gn/T/ipykernel_36609/3235400808.py\u001b[0m in \u001b[0;36m<module>\u001b[0;34m\u001b[0m\n\u001b[1;32m     29\u001b[0m \u001b[0;32mfor\u001b[0m \u001b[0mfolder\u001b[0m \u001b[0;32min\u001b[0m \u001b[0mfolders\u001b[0m\u001b[0;34m:\u001b[0m\u001b[0;34m\u001b[0m\u001b[0;34m\u001b[0m\u001b[0m\n\u001b[1;32m     30\u001b[0m     \u001b[0;32mif\u001b[0m \u001b[0mos\u001b[0m\u001b[0;34m.\u001b[0m\u001b[0mpath\u001b[0m\u001b[0;34m.\u001b[0m\u001b[0misdir\u001b[0m\u001b[0;34m(\u001b[0m\u001b[0mos\u001b[0m\u001b[0;34m.\u001b[0m\u001b[0mpath\u001b[0m\u001b[0;34m.\u001b[0m\u001b[0mjoin\u001b[0m\u001b[0;34m(\u001b[0m\u001b[0;34m'/Users/sankariraja/Desktop/Sem B/DMSN/Project'\u001b[0m\u001b[0;34m,\u001b[0m \u001b[0mfolder\u001b[0m\u001b[0;34m)\u001b[0m\u001b[0;34m)\u001b[0m\u001b[0;34m:\u001b[0m\u001b[0;34m\u001b[0m\u001b[0;34m\u001b[0m\u001b[0m\n\u001b[0;32m---> 31\u001b[0;31m         \u001b[0mmerge_files\u001b[0m\u001b[0;34m(\u001b[0m\u001b[0mos\u001b[0m\u001b[0;34m.\u001b[0m\u001b[0mpath\u001b[0m\u001b[0;34m.\u001b[0m\u001b[0mjoin\u001b[0m\u001b[0;34m(\u001b[0m\u001b[0;34m'/Users/sankariraja/Desktop/Sem B/DMSN/Project'\u001b[0m\u001b[0;34m,\u001b[0m \u001b[0mfolder\u001b[0m\u001b[0;34m)\u001b[0m\u001b[0;34m)\u001b[0m\u001b[0;34m\u001b[0m\u001b[0;34m\u001b[0m\u001b[0m\n\u001b[0m",
      "\u001b[0;32m/var/folders/bc/dgs9l44s6s5fbxcy9_55vr7w0000gn/T/ipykernel_36609/3235400808.py\u001b[0m in \u001b[0;36mmerge_files\u001b[0;34m(folder_path)\u001b[0m\n\u001b[1;32m     19\u001b[0m             \u001b[0;32mwith\u001b[0m \u001b[0mopen\u001b[0m\u001b[0;34m(\u001b[0m\u001b[0mfile\u001b[0m\u001b[0;34m,\u001b[0m \u001b[0;34m'r'\u001b[0m\u001b[0;34m)\u001b[0m \u001b[0;32mas\u001b[0m \u001b[0mf\u001b[0m\u001b[0;34m:\u001b[0m\u001b[0;34m\u001b[0m\u001b[0;34m\u001b[0m\u001b[0m\n\u001b[1;32m     20\u001b[0m                 \u001b[0;31m# read all lines of a file and write into new file\u001b[0m\u001b[0;34m\u001b[0m\u001b[0;34m\u001b[0m\u001b[0m\n\u001b[0;32m---> 21\u001b[0;31m                 \u001b[0mlines_in_file\u001b[0m \u001b[0;34m=\u001b[0m \u001b[0mf\u001b[0m\u001b[0;34m.\u001b[0m\u001b[0mreadlines\u001b[0m\u001b[0;34m(\u001b[0m\u001b[0;34m)\u001b[0m\u001b[0;34m\u001b[0m\u001b[0;34m\u001b[0m\u001b[0m\n\u001b[0m\u001b[1;32m     22\u001b[0m                 \u001b[0mnf\u001b[0m\u001b[0;34m.\u001b[0m\u001b[0mwritelines\u001b[0m\u001b[0;34m(\u001b[0m\u001b[0mlines_in_file\u001b[0m\u001b[0;34m)\u001b[0m\u001b[0;34m\u001b[0m\u001b[0;34m\u001b[0m\u001b[0m\n\u001b[1;32m     23\u001b[0m                 \u001b[0;31m# insert a newline after reading each file\u001b[0m\u001b[0;34m\u001b[0m\u001b[0;34m\u001b[0m\u001b[0m\n",
      "\u001b[0;32m~/opt/anaconda3/lib/python3.9/codecs.py\u001b[0m in \u001b[0;36mdecode\u001b[0;34m(self, input, final)\u001b[0m\n\u001b[1;32m    320\u001b[0m         \u001b[0;31m# decode input (taking the buffer into account)\u001b[0m\u001b[0;34m\u001b[0m\u001b[0;34m\u001b[0m\u001b[0m\n\u001b[1;32m    321\u001b[0m         \u001b[0mdata\u001b[0m \u001b[0;34m=\u001b[0m \u001b[0mself\u001b[0m\u001b[0;34m.\u001b[0m\u001b[0mbuffer\u001b[0m \u001b[0;34m+\u001b[0m \u001b[0minput\u001b[0m\u001b[0;34m\u001b[0m\u001b[0;34m\u001b[0m\u001b[0m\n\u001b[0;32m--> 322\u001b[0;31m         \u001b[0;34m(\u001b[0m\u001b[0mresult\u001b[0m\u001b[0;34m,\u001b[0m \u001b[0mconsumed\u001b[0m\u001b[0;34m)\u001b[0m \u001b[0;34m=\u001b[0m \u001b[0mself\u001b[0m\u001b[0;34m.\u001b[0m\u001b[0m_buffer_decode\u001b[0m\u001b[0;34m(\u001b[0m\u001b[0mdata\u001b[0m\u001b[0;34m,\u001b[0m \u001b[0mself\u001b[0m\u001b[0;34m.\u001b[0m\u001b[0merrors\u001b[0m\u001b[0;34m,\u001b[0m \u001b[0mfinal\u001b[0m\u001b[0;34m)\u001b[0m\u001b[0;34m\u001b[0m\u001b[0;34m\u001b[0m\u001b[0m\n\u001b[0m\u001b[1;32m    323\u001b[0m         \u001b[0;31m# keep undecoded input until the next call\u001b[0m\u001b[0;34m\u001b[0m\u001b[0;34m\u001b[0m\u001b[0m\n\u001b[1;32m    324\u001b[0m         \u001b[0mself\u001b[0m\u001b[0;34m.\u001b[0m\u001b[0mbuffer\u001b[0m \u001b[0;34m=\u001b[0m \u001b[0mdata\u001b[0m\u001b[0;34m[\u001b[0m\u001b[0mconsumed\u001b[0m\u001b[0;34m:\u001b[0m\u001b[0;34m]\u001b[0m\u001b[0;34m\u001b[0m\u001b[0;34m\u001b[0m\u001b[0m\n",
      "\u001b[0;31mUnicodeDecodeError\u001b[0m: 'utf-8' codec can't decode byte 0xff in position 1074: invalid start byte"
     ]
    }
   ],
   "source": [
    "import os\n",
    "\n",
    "\n",
    "# Function to merge all files in a folder\n",
    "def merge_files(folder_path):\n",
    "    # get all files in the folder,\n",
    "    # assumption: folder has no directories and all text files\n",
    "    files = os.listdir(folder_path)\n",
    "\n",
    "    # form the file name for the new file to create\n",
    "    new_file_name = os.path.basename(folder_path) + '.txt'\n",
    "    new_file_path = os.path.join(folder_path, new_file_name)\n",
    "\n",
    "    # open new file in write mode\n",
    "    with open(new_file_path, 'w') as nf:\n",
    "        # open files to merge in read mode\n",
    "        for file in files:\n",
    "            file = os.path.join(folder_path, file)\n",
    "            with open(file, 'r') as f:\n",
    "                # read all lines of a file and write into new file\n",
    "                lines_in_file = f.readlines()\n",
    "                nf.writelines(lines_in_file)\n",
    "                # insert a newline after reading each file\n",
    "                nf.write(\"\\n\")\n",
    "\n",
    "\n",
    "# Call function from the main folder with the subfolders\n",
    "folders = os.listdir(\"/Users/sankariraja/Desktop/Sem B/DMSN/Project\")\n",
    "for folder in folders:\n",
    "    if os.path.isdir(os.path.join('/Users/sankariraja/Desktop/Sem B/DMSN/Project', folder)):\n",
    "        merge_files(os.path.join('/Users/sankariraja/Desktop/Sem B/DMSN/Project', folder))"
   ]
  },
  {
   "cell_type": "code",
   "execution_count": 3,
   "id": "4183cc93",
   "metadata": {},
   "outputs": [],
   "source": [
    "import pandas as pd\n",
    "pd.set_option('display.max_rows', 2000)"
   ]
  },
  {
   "cell_type": "code",
   "execution_count": 4,
   "id": "02449d06",
   "metadata": {
    "scrolled": true
   },
   "outputs": [],
   "source": [
    "album_01_nodes = pd.read_csv(\"/Users/sankariraja/Desktop/Sem B/DMSN/Project/IsophonicsChordLabels/Beatles/11_-_Abbey_Road/11_-_Abbey_Road.txt\", delim_whitespace=True, header=None)\n",
    "\n",
    "album_01_nodes.rename( columns={0 :'Onset', 1: 'Offset', 2: 'Id'}, inplace=True )\n",
    "\n",
    "col = album_01_nodes.pop(\"Id\")\n",
    "album_01_nodes.insert(0, col.name, col)\n",
    "\n",
    "album_01_edges = album_01_nodes.copy()\n",
    "album_01_edges.drop(['Onset', 'Offset'], axis=1, inplace=True)\n",
    "\n",
    "album_01_edges['Target'] = album_01_edges['Id'].copy()\n",
    "album_01_edges.rename(columns={'Id':'Source'}, inplace=True)\n",
    "album_01_edges['Target'] = album_01_edges['Target'].shift(-1)\n",
    "album_01_edges =album_01_edges[:-1]\n",
    "\n",
    "album_01_edges.to_csv('album_01_edges.csv', index=False)\n",
    "album_01_nodes.to_csv('album_01_nodes.csv', index=False)"
   ]
  },
  {
   "cell_type": "code",
   "execution_count": null,
   "id": "e57ab587",
   "metadata": {},
   "outputs": [],
   "source": [
    "# album_02_nodes = pd.read_csv(\"C:\\\\Users\\\\Callu\\\\OneDrive\\\\Desktop\\\\Network Beatles Data\\\\IsophonicsChordLabels\\\\Beatles\\\\02_-_With_the_Beatles\\\\02_-_With_the_Beatles.txt\", delim_whitespace=True, header=None)\n",
    "\n",
    "# album_02_nodes.rename( columns={0 :'Onset', 1: 'Offset', 2: 'Id'}, inplace=True )\n",
    "\n",
    "# col = album_01_nodes.pop(\"Id\")\n",
    "# album_01_nodes.insert(0, col.name, col)\n",
    "\n",
    "# album_01_edges = album_01_nodes.copy()\n",
    "# album_01_edges.drop(['Onset', 'Offset'], axis=1, inplace=True)\n",
    "\n",
    "# album_01_edges['Target'] = album_01_edges['Id'].copy()\n",
    "# album_01_edges.rename(columns={'Id':'Source'}, inplace=True)\n",
    "# album_01_edges['Target'] = album_01_edges['Target'].shift(-1)\n",
    "# album_01_edges =album_01_edges[:-1]\n",
    "\n",
    "# album_01_edges.to_csv('album_01_edges.csv', index=False)\n",
    "# album_01_nodes.to_csv('album_01_nodes.csv', index=False)"
   ]
  },
  {
   "cell_type": "code",
   "execution_count": null,
   "id": "1cc2e78b",
   "metadata": {},
   "outputs": [],
   "source": [
    "# album_01_nodes = pd.read_csv(\"C:\\\\Users\\\\Callu\\\\OneDrive\\\\Desktop\\\\Network Beatles Data\\\\IsophonicsChordLabels\\\\Beatles\\\\01_-_Please_Please_Me\\\\01_-_Please_Please_Me.txt\", delim_whitespace=True, header=None)\n",
    "\n",
    "# album_01_nodes.rename( columns={0 :'Onset', 1: 'Offset', 2: 'Id'}, inplace=True )\n",
    "\n",
    "# col = album_01_nodes.pop(\"Id\")\n",
    "# album_01_nodes.insert(0, col.name, col)\n",
    "\n",
    "# album_01_edges = album_01_nodes.copy()\n",
    "# album_01_edges.drop(['Onset', 'Offset'], axis=1, inplace=True)\n",
    "\n",
    "# album_01_edges['Target'] = album_01_edges['Id'].copy()\n",
    "# album_01_edges.rename(columns={'Id':'Source'}, inplace=True)\n",
    "# album_01_edges['Target'] = album_01_edges['Target'].shift(-1)\n",
    "# album_01_edges =album_01_edges[:-1]\n",
    "\n",
    "# album_01_edges.to_csv('album_01_edges.csv', index=False)\n",
    "# album_01_nodes.to_csv('album_01_nodes.csv', index=False)"
   ]
  }
 ],
 "metadata": {
  "kernelspec": {
   "display_name": "Python 3 (ipykernel)",
   "language": "python",
   "name": "python3"
  },
  "language_info": {
   "codemirror_mode": {
    "name": "ipython",
    "version": 3
   },
   "file_extension": ".py",
   "mimetype": "text/x-python",
   "name": "python",
   "nbconvert_exporter": "python",
   "pygments_lexer": "ipython3",
   "version": "3.9.7"
  }
 },
 "nbformat": 4,
 "nbformat_minor": 5
}
